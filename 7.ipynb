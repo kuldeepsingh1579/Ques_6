{
 "cells": [
  {
   "cell_type": "raw",
   "id": "80e72d9d-9dc7-4b72-8660-87fd612c5df4",
   "metadata": {},
   "source": [
    "Callback hell--> Callback hell, also known as the Pyramid of Doom, is a situation that arises in asynchronous JavaScript programming when multiple nested callbacks are used, leading to deeply nested and hard-to-read code. It occurs when the code relies heavily on callback functions, which can make the code difficult to manage and understand due to its indentation and complexity.\n",
    "\n",
    "To solve callback hell, there are several approaches in modern JavaScript:\n",
    "\n",
    "Using Promises:\n",
    "Promises provide a more structured and sequential way to handle asynchronous operations. Promises allow you to chain multiple asynchronous operations using the then() method and handle errors with the catch() method. Promises can be created using the Promise constructor or using utility methods like Promise.resolve() and Promise.reject().\n"
   ]
  }
 ],
 "metadata": {
  "kernelspec": {
   "display_name": "Python 3 (ipykernel)",
   "language": "python",
   "name": "python3"
  },
  "language_info": {
   "codemirror_mode": {
    "name": "ipython",
    "version": 3
   },
   "file_extension": ".py",
   "mimetype": "text/x-python",
   "name": "python",
   "nbconvert_exporter": "python",
   "pygments_lexer": "ipython3",
   "version": "3.10.8"
  }
 },
 "nbformat": 4,
 "nbformat_minor": 5
}
